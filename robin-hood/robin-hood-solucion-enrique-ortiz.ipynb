{
 "cells": [
  {
   "cell_type": "markdown",
   "metadata": {},
   "source": [
    "# Robin Hood\n",
    "## Intro\n",
    "We are in a competition to win the archery contest in Sherwood. With our bow and arrows we shoot on a target and try to hit as close as possible to the center.\n",
    "\n",
    "The center of the target is represented by the values (0, 0) on the coordinate axes.\n",
    "\n",
    "![](images/arrows.jpg)\n",
    "\n",
    "## Goals:\n",
    "* data structures: lists, sets, tuples\n",
    "* logical operators: if-elif-else\n",
    "* loop: while/for\n",
    "* minimum (optional sorting)\n",
    "\n",
    "## Description:\n",
    "In the 2-dimensional space, a point can be defined by a pair of values that correspond to the horizontal coordinate (x) and the vertical coordinate (y). The space can be divided into 4 zones (quadrants): Q1, Q2, Q3, Q4. Whose single point of union is the point (0, 0).\n",
    "\n",
    "If a point is in Q1 both its x coordinate and the y are positive. I leave a link to wikipedia to familiarize yourself with these quadrants.\n",
    "\n",
    "https://en.wikipedia.org/wiki/Cartesian_coordinate_system\n",
    "\n",
    "https://en.wikipedia.org/wiki/Euclidean_distance\n",
    "\n",
    "## Shots\n",
    "```\n",
    "points = [(4, 5), (-0, 2), (4, 7), (1, -3), (3, -2), (4, 5),\n",
    "          (3, 2), (5, 7), (-5, 7), (2, 2), (-4, 5), (0, -2),\n",
    "          (-4, 7), (-1, 3), (-3, 2), (-4, -5), (-3, 2),\n",
    "          (5, 7), (5, 7), (2, 2), (9, 9), (-8, -9)]\n",
    "```\n",
    "\n",
    "## Tasks\n",
    "1. Robin Hood is famous for hitting an arrow with another arrow. Did you get it?\n",
    "2. Calculate how many arrows have fallen in each quadrant.\n",
    "3. Find the point closest to the center. Calculate its distance to the center. \n",
    "4. If the target has a radius of 9, calculate the number of arrows that must be picked up in the forest."
   ]
  },
  {
   "cell_type": "code",
   "execution_count": 1,
   "metadata": {},
   "outputs": [],
   "source": [
    "# Variables\n",
    "\n",
    "points = [(4, 5), (-0, 2), (4, 7), (1, -3), (3, -2), (4, 5),\n",
    "          (3, 2), (5, 7), (-5, 7), (2, 2), (-4, 5), (0, -2),\n",
    "          (-4, 7), (-1, 3), (-3, 2), (-4, -5), (-3, 2),\n",
    "          (5, 7), (5, 7), (2, 2), (9, 9), (-8, -9)]"
   ]
  },
  {
   "cell_type": "code",
   "execution_count": 5,
   "metadata": {},
   "outputs": [
    {
     "name": "stdout",
     "output_type": "stream",
     "text": [
      "True\n"
     ]
    }
   ],
   "source": [
    "# 1. Robin Hood is famous for hitting an arrow with another arrow. Did you get it?\n",
    "\n",
    "points_test = points[:]\n",
    "\n",
    "length_original = len(points_test)\n",
    "\n",
    "unique_values = set(points_test)\n",
    "\n",
    "if len(unique_values) < len(points_test):\n",
    "    print(True)\n",
    "else:\n",
    "    print(\"Robin Hood didn't make it this time.\")\n",
    "    \n",
    "\n",
    "    \n"
   ]
  },
  {
   "cell_type": "markdown",
   "metadata": {},
   "source": [
    "**Expected output**:\n",
    "```\n",
    "True\n",
    "```"
   ]
  },
  {
   "cell_type": "code",
   "execution_count": 10,
   "metadata": {},
   "outputs": [
    {
     "name": "stdout",
     "output_type": "stream",
     "text": [
      "(10, 6, 2, 2)\n"
     ]
    }
   ],
   "source": [
    "# 2. Calculate how many arrows have fallen in each quadrant.\n",
    "\n",
    "q_1 = 0\n",
    "q_2 = 0\n",
    "q_3 = 0\n",
    "q_4 = 0\n",
    "\n",
    "for point in points_test:\n",
    "    x_coordinate = point[0]\n",
    "    y_coordinate = point[1]\n",
    "    if (x_coordinate > 0) and (y_coordinate>0):\n",
    "        q_1 +=1\n",
    "    elif (x_coordinate > 0) and (y_coordinate < 0):\n",
    "        q_4 +=1\n",
    "    elif (x_coordinate < 0) and (y_coordinate > 0):\n",
    "        q_2 +=1\n",
    "    elif (x_coordinate < 0) and (y_coordinate <0):\n",
    "        q_3 +=1\n",
    "\n",
    "list_q = [q_1, q_2, q_3, q_4]\n",
    "print(tuple(list_q))\n",
    "\n",
    "    \n",
    "    \n",
    "    \n",
    "    \n",
    "    \n",
    "    \n"
   ]
  },
  {
   "cell_type": "markdown",
   "metadata": {},
   "source": [
    "**Expected output**:\n",
    "```\n",
    "(10, 6, 2, 2)\n",
    "```"
   ]
  },
  {
   "cell_type": "code",
   "execution_count": 27,
   "metadata": {},
   "outputs": [
    {
     "name": "stdout",
     "output_type": "stream",
     "text": [
      "Here are the points closest to the center: [(0, 2), (0, -2)]\n",
      "The distance of both points to the center is 2.0\n"
     ]
    }
   ],
   "source": [
    "# 3. Find the point closest to the center. Calculate its distance to the center\n",
    "# Defining a function that calculates the distance to the center can help.\n",
    "import math\n",
    "def distance_center(x, y):\n",
    "    \"\"\"This helps us calculate the distance to the center\"\"\"\n",
    "    x_square = x**2\n",
    "    y_square = y**2\n",
    "    distance = math.sqrt(x_square + y_square)\n",
    "    return distance \n",
    "\n",
    "big_list = []\n",
    "distance_list = []\n",
    "point_list = []\n",
    "\n",
    "\n",
    "for point in points_test:\n",
    "    result = distance_center(point[0],point[1])\n",
    "    big_list.append(result)\n",
    "    if result <= min(big_list):\n",
    "        point_list.append(point)\n",
    "        distance_list.append(result)\n",
    "\n",
    "\n",
    "final_distance = []\n",
    "final_point = []\n",
    "\n",
    "for point in point_list:\n",
    "     result = distance_center(point[0],point[1])\n",
    "     if result <= min(distance_list):\n",
    "                final_point.append(point)\n",
    "                final_distance.append(result)\n",
    "\n",
    "print(f\"Here are the points closest to the center: {final_point}\")\n",
    "print(\"The distance of both points to the center is\", min(final_distance))\n",
    "\n",
    "    \n"
   ]
  },
  {
   "cell_type": "markdown",
   "metadata": {},
   "source": [
    "**Expected output**:\n",
    "```\n",
    "(0, 2)\n",
    "2.0\n",
    "```"
   ]
  },
  {
   "cell_type": "code",
   "execution_count": 29,
   "metadata": {},
   "outputs": [
    {
     "name": "stdout",
     "output_type": "stream",
     "text": [
      "[(9, 9), (-8, -9)]\n",
      "2\n"
     ]
    }
   ],
   "source": [
    "# 4. If the target has a radius of 9, calculate the number of arrows that \n",
    "# must be picked up in the forest.\n",
    "\n",
    "\n",
    "out = []\n",
    "\n",
    "for point in points_test:\n",
    "    x_coordinate = point[0]\n",
    "    y_coordinate = point[1]\n",
    "    if (x_coordinate >= 9) or (y_coordinate >= 9):\n",
    "        out.append(point)\n",
    "    elif (x_coordinate <= -9) or (y_coordinate <= -9):\n",
    "        out.append(point)\n",
    "\n",
    "print(out)\n",
    "print(len(out))\n",
    "\n",
    "\n"
   ]
  },
  {
   "cell_type": "markdown",
   "metadata": {},
   "source": [
    "**Expected output**:\n",
    "```\n",
    "[(9, 9), (-8, -9)]\n",
    "2\n",
    "```"
   ]
  },
  {
   "cell_type": "code",
   "execution_count": null,
   "metadata": {},
   "outputs": [],
   "source": []
  }
 ],
 "metadata": {
  "kernelspec": {
   "display_name": "Python 3",
   "language": "python",
   "name": "python3"
  },
  "language_info": {
   "codemirror_mode": {
    "name": "ipython",
    "version": 3
   },
   "file_extension": ".py",
   "mimetype": "text/x-python",
   "name": "python",
   "nbconvert_exporter": "python",
   "pygments_lexer": "ipython3",
   "version": "3.7.3"
  }
 },
 "nbformat": 4,
 "nbformat_minor": 2
}
